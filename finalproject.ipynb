{
  "metadata": {
    "language_info": {
      "codemirror_mode": {
        "name": "python",
        "version": 3
      },
      "file_extension": ".py",
      "mimetype": "text/x-python",
      "name": "python",
      "nbconvert_exporter": "python",
      "pygments_lexer": "ipython3",
      "version": "3.8"
    },
    "kernelspec": {
      "name": "python",
      "display_name": "Pyolite",
      "language": "python"
    }
  },
  "nbformat_minor": 4,
  "nbformat": 4,
  "cells": [
    {
      "cell_type": "markdown",
      "source": "# My Jupyter Notebook on IBM Watson Studio",
      "metadata": {}
    },
    {
      "cell_type": "markdown",
      "source": "## Ehsan Malik\nData Scientist",
      "metadata": {}
    },
    {
      "cell_type": "markdown",
      "source": "*I am interested in data science because I love to uncover the hidden patterns and different relationships from the massive amount of data available nowadays.*",
      "metadata": {}
    },
    {
      "cell_type": "markdown",
      "source": "### Printing the Table of 7",
      "metadata": {}
    },
    {
      "cell_type": "code",
      "source": "for i in range(1, 11):\n    print(\"7 * \",i,\" = \",7*i)",
      "metadata": {
        "trusted": true
      },
      "execution_count": 1,
      "outputs": [
        {
          "name": "stdout",
          "text": "7 *  1  =  7\n7 *  2  =  14\n7 *  3  =  21\n7 *  4  =  28\n7 *  5  =  35\n7 *  6  =  42\n7 *  7  =  49\n7 *  8  =  56\n7 *  9  =  63\n7 *  10  =  70\n",
          "output_type": "stream"
        }
      ]
    },
    {
      "cell_type": "markdown",
      "source": "<a href=\"https://www.w3schools.com\">Visit W3Schools.com!</a>\n<img src=\"https://www.w3schools.com/images/w3schools_green.jpg\" alt=\"W3Schools.com\" style=\"width:104px;height:142px;\">\n",
      "metadata": {}
    },
    {
      "cell_type": "code",
      "source": "",
      "metadata": {},
      "execution_count": null,
      "outputs": []
    }
  ]
}